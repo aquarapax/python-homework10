{
 "cells": [
  {
   "cell_type": "markdown",
   "metadata": {},
   "source": [
    "Домашняя работа\n",
    "по теме «Метапрограммирование в Python»"
   ]
  },
  {
   "cell_type": "markdown",
   "metadata": {},
   "source": [
    "Задача 1 Применение метаклассов"
   ]
  },
  {
   "cell_type": "code",
   "execution_count": 1,
   "metadata": {},
   "outputs": [],
   "source": [
    "# Метакласс\n",
    "class AttrLoggingMeta(type):\n",
    "    \n",
    "    def __new__(cls, name, bases, attrs):\n",
    "        new_class = super().__new__(cls, name, bases, attrs) # Создаем новый класс\n",
    "                              \n",
    "        # Переопределяем методы   __getattribute__, __setattr__\n",
    "        original_getattribute = new_class.__getattribute__\n",
    "        original_setattr = new_class.__setattr__\n",
    "\n",
    "        # Метод логирования вызова\n",
    "        def log_access(name, value): \n",
    "            print(f\"Calling method '{name}'\")\n",
    "\n",
    "        # Метод логирования чтения\n",
    "        def log_read(name, value, instance):\n",
    "            print(f\"Reading attribute '{name}'\")\n",
    "            \n",
    "        # Метод логирования записи\n",
    "        def log_write(name, value, instance):\n",
    "            print(f\"Writing attribute '{name}' value {value}\")\n",
    "                       \n",
    "        def new_getattribute(self, name):\n",
    "            value = original_getattribute(self, name)\n",
    "            \n",
    "            if callable(value): # Если метод                \n",
    "                log_access(name, value) # Логируем вызов\n",
    "            else:\n",
    "                log_read(name, value, self) # иначе (атрибут) логируем чтение\n",
    "            return value\n",
    "\n",
    "        def new_setattr(self, name, value):\n",
    "            log_write(name, value, self)\n",
    "            original_setattr(self, name, value)\n",
    "\n",
    "        # Заменяем методы\n",
    "        new_class.__getattribute__ = new_getattribute\n",
    "        new_class.__setattr__ = new_setattr\n",
    "        \n",
    "        return new_class"
   ]
  },
  {
   "cell_type": "code",
   "execution_count": 2,
   "metadata": {},
   "outputs": [],
   "source": [
    "# Класс использующий метакласс AttrLoggingMeta\n",
    "class LoggedClass(metaclass=AttrLoggingMeta):\n",
    "    custom_method = 42 \n",
    "    \n",
    "    def other_custom_method(value):\n",
    "        pass"
   ]
  },
  {
   "cell_type": "code",
   "execution_count": 3,
   "metadata": {},
   "outputs": [
    {
     "name": "stdout",
     "output_type": "stream",
     "text": [
      "Reading attribute 'custom_method'\n",
      "42\n",
      "Writing attribute 'custom_method' value 78\n",
      "Calling method 'other_custom_method'\n"
     ]
    }
   ],
   "source": [
    "\n",
    "instance = LoggedClass()\n",
    "print(instance.custom_method)  # Чтение атрибута\n",
    "instance.custom_method = 78    # Запись атрибута\n",
    "instance.other_custom_method() # Вызов метода"
   ]
  },
  {
   "cell_type": "markdown",
   "metadata": {},
   "source": [
    "Задача 2 Динамическое создание класса"
   ]
  },
  {
   "cell_type": "code",
   "execution_count": 1,
   "metadata": {},
   "outputs": [],
   "source": [
    "# Функция для динамического создания классов\n",
    "def create_class_with_methods(class_name, attributes, methods):\n",
    "    new_class = type(class_name, (object,), {**attributes, **methods})  # Создаем класс с помощью type\n",
    "    return new_class # Возвращаем созданный класс"
   ]
  },
  {
   "cell_type": "code",
   "execution_count": 2,
   "metadata": {},
   "outputs": [
    {
     "name": "stdout",
     "output_type": "stream",
     "text": [
      "Hello, I am a Human and I am 25 years old.\n"
     ]
    }
   ],
   "source": [
    "# Тест\n",
    "attributes = { 'species': 'Human', 'age': 25 } \n",
    "methods = { 'greet': lambda self: f\"Hello, I am a {self.species} and I am {self.age} years old.\" } \n",
    "DynamicClass = create_class_with_methods('DynamicClass', attributes, methods) \n",
    "instance = DynamicClass() \n",
    "print(instance.greet())"
   ]
  },
  {
   "cell_type": "markdown",
   "metadata": {},
   "source": [
    "Задача 3 Генерация кода"
   ]
  },
  {
   "cell_type": "code",
   "execution_count": 4,
   "metadata": {},
   "outputs": [],
   "source": [
    "# Функция для динамической генерации функций\n",
    "def generate_complex_function(func_name, param_names, body):\n",
    "    params = ', '.join(param_names) # Формируем строку с определением функции\n",
    "    function_code = f\"def {func_name}({params}):\\n\" + '  ' + body # Формируем код функции\n",
    "    print(function_code) # Печать кода функции для проверки\n",
    "    \n",
    "    # Создаем глобальный и локальный контекст для выполнения кода\n",
    "    global_context = {}\n",
    "    local_context = {}\n",
    "    \n",
    "    exec(function_code, global_context, local_context) # Выполняем exec\n",
    "        \n",
    "    return local_context[func_name]# Возвращаем сгенерированную функцию"
   ]
  },
  {
   "cell_type": "code",
   "execution_count": 8,
   "metadata": {},
   "outputs": [
    {
     "name": "stdout",
     "output_type": "stream",
     "text": [
      "def complex_function(x, y):\n",
      "  \n",
      "    if x > y: \n",
      "        return x - y \n",
      "    else: \n",
      "        return y - x\n",
      "\n",
      " result_1 = 5 \n",
      " result_2 = 5 \n"
     ]
    }
   ],
   "source": [
    "# Тест\n",
    "function_name = 'complex_function' \n",
    "parameters = ['x', 'y'] \n",
    "function_body = \"\"\"\n",
    "    if x > y: \n",
    "        return x - y \n",
    "    else: \n",
    "        return y - x\n",
    "\"\"\"\n",
    "complex_func = generate_complex_function(function_name, parameters, function_body) \n",
    "print(f' result_1 = {complex_func(10, 5)} ')\n",
    "print(f' result_2 = {complex_func(5, 10)} ')"
   ]
  }
 ],
 "metadata": {
  "kernelspec": {
   "display_name": "Python 3",
   "language": "python",
   "name": "python3"
  },
  "language_info": {
   "codemirror_mode": {
    "name": "ipython",
    "version": 3
   },
   "file_extension": ".py",
   "mimetype": "text/x-python",
   "name": "python",
   "nbconvert_exporter": "python",
   "pygments_lexer": "ipython3",
   "version": "3.13.0"
  }
 },
 "nbformat": 4,
 "nbformat_minor": 2
}
